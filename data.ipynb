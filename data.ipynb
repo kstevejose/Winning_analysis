{
 "cells": [
  {
   "cell_type": "code",
   "execution_count": 4,
   "id": "confirmed-precipitation",
   "metadata": {},
   "outputs": [
    {
     "name": "stdout",
     "output_type": "stream",
     "text": [
      "Time to import modules 0.0\n",
      "Time to run the main Python script: 0.0\n",
      "  account_id       name               tsn             bet_datetime  panel_id  \\\n",
      "0     100273    alex 02  04240001b2d0d9ca  2021-08-17 18:23:29.144  74113933   \n",
      "1     100273    alex 02  04240001b2d0d9ca  2021-08-17 18:23:29.144  74113934   \n",
      "2     100501  ablotto05  04240001b2d5f4f1  2021-08-17 18:29:04.256  74117607   \n",
      "3     100501  ablotto05  04240001b2d5f4f1  2021-08-17 18:29:04.256  74117610   \n",
      "4     100501  ablotto05  04240001b2d5f4f1  2021-08-17 18:29:04.256  74117612   \n",
      "\n",
      "   panel_amt matrix  act_liab_amt   bettype_name       type_bet bet_selection  \n",
      "0        100     m1             0       direct 3         normal          9,45  \n",
      "1        900     m1         72000         perm 2         normal          9,45  \n",
      "2       3600     m1             0  perm  against  double chance      20,40,45  \n",
      "3       4000     m1             0  perm  against  double chance            68  \n",
      "4       1800     m1             0  perm  against  double chance            79  \n"
     ]
    }
   ],
   "source": [
    "import pandas as pd\n",
    "import numpy as np\n",
    "import time\n",
    "\n",
    "startTime = time.time()\n",
    "\n",
    "executionTime = (time.time() - startTime)\n",
    "print('Time to import modules ' + str(executionTime))\n",
    "\n",
    "startTime_2 = time.time()\n",
    "#####your python script#####\n",
    "\n",
    "executionTime_2 = (time.time() - startTime_2)\n",
    "print('Time to run the main Python script: ' + str(executionTime_2))\n",
    "\n",
    "def winnerscan():\n",
    "    first_excel='LUCKY REPORT_17th August 2021.xlsx'\n",
    "\n",
    "\n",
    "    df=pd.read_excel(first_excel)\n",
    "\n",
    "    df.columns = map(str.lower, df.columns)\n",
    "    draft=df.apply(lambda x: x.astype(str).str.lower())\n",
    "    draft['panel_amt']=draft['panel_amt'].astype(float)\n",
    "\n",
    "\n",
    "    group_df=draft.groupby(['account_id','name','tsn','bet_datetime','panel_id','panel_amt','matrix','act_liab_amt','bettype_name','type_bet']).agg({'bet_selection': lambda x : ','.join(x)})\n",
    "\n",
    "    group_df.reset_index(inplace=True)\n",
    "    group_df[['panel_amt','act_liab_amt']]=group_df[['panel_amt', 'act_liab_amt']].astype(int)\n",
    "\n",
    "    final=group_df.groupby(['account_id','bettype_name','bet_selection'])[['panel_amt']].agg('sum')\n",
    "    # final2=group_df.groupby(['account_id','name','tsn','bettype_name','bet_selection','act_liab_amt','type_bet'])[['panel_amt']].agg('sum')\n",
    "    final.reset_index(inplace=True)\n",
    "    print(group_df.head(5))\n",
    "winnerscan()"
   ]
  },
  {
   "cell_type": "code",
   "execution_count": null,
   "id": "hazardous-johns",
   "metadata": {},
   "outputs": [],
   "source": []
  }
 ],
 "metadata": {
  "kernelspec": {
   "display_name": "Python 3",
   "language": "python",
   "name": "python3"
  },
  "language_info": {
   "codemirror_mode": {
    "name": "ipython",
    "version": 3
   },
   "file_extension": ".py",
   "mimetype": "text/x-python",
   "name": "python",
   "nbconvert_exporter": "python",
   "pygments_lexer": "ipython3",
   "version": "3.9.5"
  }
 },
 "nbformat": 4,
 "nbformat_minor": 5
}
